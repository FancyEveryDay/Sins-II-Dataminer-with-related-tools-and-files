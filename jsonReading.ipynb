{
 "cells": [
  {
   "cell_type": "code",
   "execution_count": 32,
   "metadata": {},
   "outputs": [],
   "source": [
    "from SinsIIStatsThing import getSinsData, createWeaponDict, recursiveprint\n",
    "import json, glob"
   ]
  },
  {
   "cell_type": "code",
   "execution_count": 27,
   "metadata": {},
   "outputs": [
    {
     "ename": "FileNotFoundError",
     "evalue": "[Errno 2] No such file or directory: 'F:\\\\SteamLibrary\\\\steamapps\\\\common\\\\Sins2\\\\entities\\\\advent_rebel.player'",
     "output_type": "error",
     "traceback": [
      "\u001b[1;31m---------------------------------------------------------------------------\u001b[0m",
      "\u001b[1;31mFileNotFoundError\u001b[0m                         Traceback (most recent call last)",
      "Cell \u001b[1;32mIn[27], line 1\u001b[0m\n\u001b[1;32m----> 1\u001b[0m \u001b[38;5;28;01mwith\u001b[39;00m \u001b[38;5;28;43mopen\u001b[39;49m\u001b[43m(\u001b[49m\u001b[38;5;124;43mr\u001b[39;49m\u001b[38;5;124;43m'\u001b[39;49m\u001b[38;5;124;43mF:\u001b[39;49m\u001b[38;5;124;43m\\\u001b[39;49m\u001b[38;5;124;43mSteamLibrary\u001b[39;49m\u001b[38;5;124;43m\\\u001b[39;49m\u001b[38;5;124;43msteamapps\u001b[39;49m\u001b[38;5;124;43m\\\u001b[39;49m\u001b[38;5;124;43mcommon\u001b[39;49m\u001b[38;5;124;43m\\\u001b[39;49m\u001b[38;5;124;43mSins2\u001b[39;49m\u001b[38;5;124;43m\\\u001b[39;49m\u001b[38;5;124;43mentities\u001b[39;49m\u001b[38;5;124;43m\\\u001b[39;49m\u001b[38;5;124;43madvent_rebel.player\u001b[39;49m\u001b[38;5;124;43m'\u001b[39;49m\u001b[43m,\u001b[49m\u001b[43m \u001b[49m\u001b[38;5;124;43m'\u001b[39;49m\u001b[38;5;124;43mr\u001b[39;49m\u001b[38;5;124;43m'\u001b[39;49m\u001b[43m)\u001b[49m \u001b[38;5;28;01mas\u001b[39;00m file:\n\u001b[0;32m      2\u001b[0m     adventRebelPlayer \u001b[38;5;241m=\u001b[39m json\u001b[38;5;241m.\u001b[39mload(file)\n\u001b[0;32m      4\u001b[0m \u001b[38;5;28;01mwith\u001b[39;00m \u001b[38;5;28mopen\u001b[39m(\u001b[38;5;124mr\u001b[39m\u001b[38;5;124m'\u001b[39m\u001b[38;5;124mF:\u001b[39m\u001b[38;5;124m\\\u001b[39m\u001b[38;5;124mSteamLibrary\u001b[39m\u001b[38;5;124m\\\u001b[39m\u001b[38;5;124msteamapps\u001b[39m\u001b[38;5;124m\\\u001b[39m\u001b[38;5;124mcommon\u001b[39m\u001b[38;5;124m\\\u001b[39m\u001b[38;5;124mSins2\u001b[39m\u001b[38;5;124m\\\u001b[39m\u001b[38;5;124muniforms\u001b[39m\u001b[38;5;124m\\\u001b[39m\u001b[38;5;124mplayer.uniforms\u001b[39m\u001b[38;5;124m'\u001b[39m, \u001b[38;5;124m'\u001b[39m\u001b[38;5;124mr\u001b[39m\u001b[38;5;124m'\u001b[39m) \u001b[38;5;28;01mas\u001b[39;00m file:\n",
      "File \u001b[1;32m~\\AppData\\Roaming\\Python\\Python312\\site-packages\\IPython\\core\\interactiveshell.py:324\u001b[0m, in \u001b[0;36m_modified_open\u001b[1;34m(file, *args, **kwargs)\u001b[0m\n\u001b[0;32m    317\u001b[0m \u001b[38;5;28;01mif\u001b[39;00m file \u001b[38;5;129;01min\u001b[39;00m {\u001b[38;5;241m0\u001b[39m, \u001b[38;5;241m1\u001b[39m, \u001b[38;5;241m2\u001b[39m}:\n\u001b[0;32m    318\u001b[0m     \u001b[38;5;28;01mraise\u001b[39;00m \u001b[38;5;167;01mValueError\u001b[39;00m(\n\u001b[0;32m    319\u001b[0m         \u001b[38;5;124mf\u001b[39m\u001b[38;5;124m\"\u001b[39m\u001b[38;5;124mIPython won\u001b[39m\u001b[38;5;124m'\u001b[39m\u001b[38;5;124mt let you open fd=\u001b[39m\u001b[38;5;132;01m{\u001b[39;00mfile\u001b[38;5;132;01m}\u001b[39;00m\u001b[38;5;124m by default \u001b[39m\u001b[38;5;124m\"\u001b[39m\n\u001b[0;32m    320\u001b[0m         \u001b[38;5;124m\"\u001b[39m\u001b[38;5;124mas it is likely to crash IPython. If you know what you are doing, \u001b[39m\u001b[38;5;124m\"\u001b[39m\n\u001b[0;32m    321\u001b[0m         \u001b[38;5;124m\"\u001b[39m\u001b[38;5;124myou can use builtins\u001b[39m\u001b[38;5;124m'\u001b[39m\u001b[38;5;124m open.\u001b[39m\u001b[38;5;124m\"\u001b[39m\n\u001b[0;32m    322\u001b[0m     )\n\u001b[1;32m--> 324\u001b[0m \u001b[38;5;28;01mreturn\u001b[39;00m \u001b[43mio_open\u001b[49m\u001b[43m(\u001b[49m\u001b[43mfile\u001b[49m\u001b[43m,\u001b[49m\u001b[43m \u001b[49m\u001b[38;5;241;43m*\u001b[39;49m\u001b[43margs\u001b[49m\u001b[43m,\u001b[49m\u001b[43m \u001b[49m\u001b[38;5;241;43m*\u001b[39;49m\u001b[38;5;241;43m*\u001b[39;49m\u001b[43mkwargs\u001b[49m\u001b[43m)\u001b[49m\n",
      "\u001b[1;31mFileNotFoundError\u001b[0m: [Errno 2] No such file or directory: 'F:\\\\SteamLibrary\\\\steamapps\\\\common\\\\Sins2\\\\entities\\\\advent_rebel.player'"
     ]
    }
   ],
   "source": [
    "with open(r'F:\\SteamLibrary\\steamapps\\common\\Sins2\\entities\\advent_rebel.player', 'r') as file:\n",
    "    adventRebelPlayer = json.load(file)\n",
    "\n",
    "with open(r'F:\\SteamLibrary\\steamapps\\common\\Sins2\\uniforms\\player.uniforms', 'r') as file:\n",
    "    playerUniform = json.load(file)"
   ]
  },
  {
   "cell_type": "code",
   "execution_count": 28,
   "metadata": {},
   "outputs": [
    {
     "ename": "NameError",
     "evalue": "name 'adventRebelPlayer' is not defined",
     "output_type": "error",
     "traceback": [
      "\u001b[1;31m---------------------------------------------------------------------------\u001b[0m",
      "\u001b[1;31mNameError\u001b[0m                                 Traceback (most recent call last)",
      "Cell \u001b[1;32mIn[28], line 1\u001b[0m\n\u001b[1;32m----> 1\u001b[0m \u001b[38;5;28;01mfor\u001b[39;00m i \u001b[38;5;129;01min\u001b[39;00m (\u001b[43madventRebelPlayer\u001b[49m\u001b[38;5;241m.\u001b[39mkeys()):\n\u001b[0;32m      2\u001b[0m     \u001b[38;5;28mprint\u001b[39m(i)\n",
      "\u001b[1;31mNameError\u001b[0m: name 'adventRebelPlayer' is not defined"
     ]
    }
   ],
   "source": [
    "for i in (adventRebelPlayer.keys()):\n",
    "    print(i)"
   ]
  },
  {
   "cell_type": "code",
   "execution_count": null,
   "metadata": {},
   "outputs": [
    {
     "name": "stdout",
     "output_type": "stream",
     "text": [
      "credits\n",
      "\t 0 : {'rate_taxable': 20, 'tax_rate': 0}\n",
      "\t 1 : {'rate_taxable': 30, 'tax_rate': 0.05}\n",
      "\t 2 : {'rate_taxable': 40, 'tax_rate': 0.1}\n",
      "\t 3 : {'rate_taxable': 50, 'tax_rate': 0.2}\n",
      "\t 4 : {'rate_taxable': 75, 'tax_rate': 0.3}\n",
      "\t 5 : {'rate_taxable': 100, 'tax_rate': 0.45}\n",
      "\t 6 : {'tax_rate': 0.6}\n",
      "metal\n",
      "\t 0 : {'rate_taxable': 9, 'tax_rate': 0}\n",
      "\t 1 : {'rate_taxable': 12, 'tax_rate': 0.05}\n",
      "\t 2 : {'rate_taxable': 15, 'tax_rate': 0.1}\n",
      "\t 3 : {'rate_taxable': 21, 'tax_rate': 0.2}\n",
      "\t 4 : {'rate_taxable': 27, 'tax_rate': 0.3}\n",
      "\t 5 : {'rate_taxable': 36, 'tax_rate': 0.45}\n",
      "\t 6 : {'tax_rate': 0.6}\n",
      "crystal\n",
      "\t 0 : {'rate_taxable': 9, 'tax_rate': 0}\n",
      "\t 1 : {'rate_taxable': 12, 'tax_rate': 0.05}\n",
      "\t 2 : {'rate_taxable': 15, 'tax_rate': 0.1}\n",
      "\t 3 : {'rate_taxable': 21, 'tax_rate': 0.2}\n",
      "\t 4 : {'rate_taxable': 27, 'tax_rate': 0.3}\n",
      "\t 5 : {'rate_taxable': 36, 'tax_rate': 0.45}\n",
      "\t 6 : {'tax_rate': 0.6}\n"
     ]
    }
   ],
   "source": [
    "for i, j in playerUniform[\"marginal_tax_rate_levels\"].items():\n",
    "    print(i)\n",
    "    for k, l, in enumerate(j):\n",
    "        print(f\"\\t {k} : {l}\")"
   ]
  },
  {
   "cell_type": "code",
   "execution_count": 29,
   "metadata": {},
   "outputs": [
    {
     "name": "stdout",
     "output_type": "stream",
     "text": [
      "['Patch 41.06 Entities\\\\asteroid_planet.unit', 'Patch 41.06 Entities\\\\barren_planet.unit', 'Patch 41.06 Entities\\\\city_planet.unit', 'Patch 41.06 Entities\\\\crystalline_planet.unit', 'Patch 41.06 Entities\\\\desert_planet.unit', 'Patch 41.06 Entities\\\\ferrous_planet.unit', 'Patch 41.06 Entities\\\\gas_giant_planet.unit', 'Patch 41.06 Entities\\\\hive_asteroid_planet.unit', 'Patch 41.06 Entities\\\\ice_asteroid_planet.unit', 'Patch 41.06 Entities\\\\ice_moon_planet.unit', 'Patch 41.06 Entities\\\\ice_planet.unit', 'Patch 41.06 Entities\\\\magnetic_planet.unit', 'Patch 41.06 Entities\\\\moon_planet.unit', 'Patch 41.06 Entities\\\\oceanic_planet.unit', 'Patch 41.06 Entities\\\\pirate_base_planet.unit', 'Patch 41.06 Entities\\\\ship_graveyard_planet.unit', 'Patch 41.06 Entities\\\\swamp_planet.unit', 'Patch 41.06 Entities\\\\terran_planet.unit', 'Patch 41.06 Entities\\\\volcanic_moon_planet.unit', 'Patch 41.06 Entities\\\\volcanic_planet.unit']\n"
     ]
    }
   ],
   "source": [
    "planets = glob.glob(\"Patch 41.06 Entities\\\\**_planet.unit\")\n",
    "\n",
    "print(planets)"
   ]
  },
  {
   "cell_type": "code",
   "execution_count": 33,
   "metadata": {},
   "outputs": [
    {
     "name": "stdout",
     "output_type": "stream",
     "text": [
      "asteroid\n",
      "\n"
     ]
    },
    {
     "ename": "AttributeError",
     "evalue": "'bool' object has no attribute 'write'",
     "output_type": "error",
     "traceback": [
      "\u001b[1;31m---------------------------------------------------------------------------\u001b[0m",
      "\u001b[1;31mAttributeError\u001b[0m                            Traceback (most recent call last)",
      "Cell \u001b[1;32mIn[33], line 8\u001b[0m\n\u001b[0;32m      4\u001b[0m     \u001b[38;5;28;01mwith\u001b[39;00m \u001b[38;5;28mopen\u001b[39m(i,\u001b[38;5;124m\"\u001b[39m\u001b[38;5;124mr\u001b[39m\u001b[38;5;124m\"\u001b[39m) \u001b[38;5;28;01mas\u001b[39;00m file:\n\u001b[0;32m      6\u001b[0m         planetData[i\u001b[38;5;241m.\u001b[39msplit(\u001b[38;5;124m\"\u001b[39m\u001b[38;5;130;01m\\\\\u001b[39;00m\u001b[38;5;124m\"\u001b[39m)[\u001b[38;5;241m1\u001b[39m]\u001b[38;5;241m.\u001b[39msplit(\u001b[38;5;124m\"\u001b[39m\u001b[38;5;124m_\u001b[39m\u001b[38;5;124m\"\u001b[39m)[\u001b[38;5;241m0\u001b[39m]] \u001b[38;5;241m=\u001b[39m json\u001b[38;5;241m.\u001b[39mload(file)[\u001b[38;5;124m\"\u001b[39m\u001b[38;5;124mplanet\u001b[39m\u001b[38;5;124m\"\u001b[39m][\u001b[38;5;124m\"\u001b[39m\u001b[38;5;124mdestroyed_planet\u001b[39m\u001b[38;5;124m\"\u001b[39m]\n\u001b[1;32m----> 8\u001b[0m \u001b[43mrecursiveprint\u001b[49m\u001b[43m(\u001b[49m\u001b[43mplanetData\u001b[49m\u001b[43m,\u001b[49m\u001b[43m \u001b[49m\u001b[38;5;28;43;01mFalse\u001b[39;49;00m\u001b[43m)\u001b[49m\n",
      "File \u001b[1;32mc:\\Users\\dereu\\OneDrive\\Documents\\GitHub\\Sins-II-Dataminer-with-related-tools-and-files\\SinsIIStatsThing.py:28\u001b[0m, in \u001b[0;36mrecursiveprint\u001b[1;34m(collection, output, localText, level)\u001b[0m\n\u001b[0;32m     25\u001b[0m \u001b[38;5;28;01melif\u001b[39;00m \u001b[38;5;28mtype\u001b[39m(collection) \u001b[38;5;129;01mis\u001b[39;00m \u001b[38;5;28mdict\u001b[39m:\n\u001b[0;32m     26\u001b[0m     \u001b[38;5;28;01mfor\u001b[39;00m name, entry \u001b[38;5;129;01min\u001b[39;00m collection\u001b[38;5;241m.\u001b[39mitems():\n\u001b[1;32m---> 28\u001b[0m         \u001b[38;5;28;01mif\u001b[39;00m \u001b[38;5;28mtype\u001b[39m(entry) \u001b[38;5;129;01mnot\u001b[39;00m \u001b[38;5;129;01min\u001b[39;00m printTypes:\n\u001b[0;32m     29\u001b[0m             \u001b[38;5;28mprint\u001b[39m(\u001b[38;5;124mf\u001b[39m\u001b[38;5;124m\"\u001b[39m\u001b[38;5;132;01m{\u001b[39;00mindents\u001b[38;5;132;01m}\u001b[39;00m\u001b[38;5;132;01m{\u001b[39;00mname\u001b[38;5;132;01m}\u001b[39;00m\u001b[38;5;130;01m\\n\u001b[39;00m\u001b[38;5;124m\"\u001b[39m)\n\u001b[0;32m     30\u001b[0m             output\u001b[38;5;241m.\u001b[39mwrite(\u001b[38;5;124mf\u001b[39m\u001b[38;5;124m\"\u001b[39m\u001b[38;5;130;01m\\n\u001b[39;00m\u001b[38;5;132;01m{\u001b[39;00mindents\u001b[38;5;132;01m}\u001b[39;00m\u001b[38;5;132;01m{\u001b[39;00mname\u001b[38;5;132;01m}\u001b[39;00m\u001b[38;5;130;01m\\n\u001b[39;00m\u001b[38;5;124m\"\u001b[39m)\n",
      "\u001b[1;31mAttributeError\u001b[0m: 'bool' object has no attribute 'write'"
     ]
    }
   ],
   "source": [
    "planetData = {}\n",
    "\n",
    "for i in planets:\n",
    "    with open(i,\"r\") as file:\n",
    "\n",
    "        planetData[i.split(\"\\\\\")[1].split(\"_\")[0]] = json.load(file)[\"planet\"][\"destroyed_planet\"]\n",
    "\n",
    "recursiveprint(planetData, False)\n",
    "\n",
    "\n"
   ]
  }
 ],
 "metadata": {
  "kernelspec": {
   "display_name": "Python 3",
   "language": "python",
   "name": "python3"
  },
  "language_info": {
   "codemirror_mode": {
    "name": "ipython",
    "version": 3
   },
   "file_extension": ".py",
   "mimetype": "text/x-python",
   "name": "python",
   "nbconvert_exporter": "python",
   "pygments_lexer": "ipython3",
   "version": "3.12.6"
  }
 },
 "nbformat": 4,
 "nbformat_minor": 2
}
