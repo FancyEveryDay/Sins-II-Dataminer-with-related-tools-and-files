{
 "cells": [
  {
   "cell_type": "code",
   "execution_count": 2,
   "metadata": {},
   "outputs": [],
   "source": [
    "from SinsIIStatsThing import getSinsData, createWeaponDict\n",
    "import json"
   ]
  },
  {
   "cell_type": "code",
   "execution_count": 7,
   "metadata": {},
   "outputs": [],
   "source": [
    "with open(r'F:\\SteamLibrary\\steamapps\\common\\Sins2\\entities\\advent_rebel.player', 'r') as file:\n",
    "    adventRebelPlayer = json.load(file)\n",
    "\n",
    "with open(r'F:\\SteamLibrary\\steamapps\\common\\Sins2\\uniforms\\player.uniforms', 'r') as file:\n",
    "    playerUniform = json.load(file)"
   ]
  },
  {
   "cell_type": "code",
   "execution_count": 5,
   "metadata": {},
   "outputs": [
    {
     "name": "stdout",
     "output_type": "stream",
     "text": [
      "version\n",
      "race\n",
      "home_planet\n",
      "influence\n",
      "planet_levels\n",
      "planet_surveying_levels\n",
      "starting_free_unit_build_kinds\n",
      "starting_units_in_formations\n",
      "fleet\n",
      "fleet_name_group\n",
      "unit_build_groups\n",
      "buildable_units\n",
      "faction_buildable_units\n",
      "buildable_strikecraft\n",
      "structure_build_groups\n",
      "structure_builder\n",
      "structures\n",
      "ability_created_units\n",
      "unit_limits\n",
      "research\n",
      "missing_ship_component_shop_build_time_scalar\n",
      "ship_components\n",
      "ship_component_build_groups\n",
      "planet_components\n",
      "planet_component_build_groups\n",
      "first_capital_ship_item\n",
      "planet_types\n",
      "default_starting_assets\n",
      "asteroid_extraction_rates\n",
      "planet_bombing_recovery_cooldown\n",
      "colonize_starting_health_percent\n",
      "colonize_starting_shield_percent\n",
      "culture\n",
      "wormhole_research\n",
      "hyperspace_between_stars_research\n",
      "buildable_exotics\n",
      "unity\n",
      "max_supply\n",
      "unit_starting_experience\n",
      "gui\n",
      "unit_names\n",
      "victory_gui\n",
      "sounds\n",
      "ai\n",
      "planet_elevators\n",
      "theme_picker_mesh_preview_units\n",
      "theme_picker_skybox\n"
     ]
    }
   ],
   "source": [
    "for i in (adventRebelPlayer.keys()):\n",
    "    print(i)"
   ]
  },
  {
   "cell_type": "code",
   "execution_count": null,
   "metadata": {},
   "outputs": [
    {
     "name": "stdout",
     "output_type": "stream",
     "text": [
      "credits\n",
      "\t 0 : {'rate_taxable': 20, 'tax_rate': 0}\n",
      "\t 1 : {'rate_taxable': 30, 'tax_rate': 0.05}\n",
      "\t 2 : {'rate_taxable': 40, 'tax_rate': 0.1}\n",
      "\t 3 : {'rate_taxable': 50, 'tax_rate': 0.2}\n",
      "\t 4 : {'rate_taxable': 75, 'tax_rate': 0.3}\n",
      "\t 5 : {'rate_taxable': 100, 'tax_rate': 0.45}\n",
      "\t 6 : {'tax_rate': 0.6}\n",
      "metal\n",
      "\t 0 : {'rate_taxable': 9, 'tax_rate': 0}\n",
      "\t 1 : {'rate_taxable': 12, 'tax_rate': 0.05}\n",
      "\t 2 : {'rate_taxable': 15, 'tax_rate': 0.1}\n",
      "\t 3 : {'rate_taxable': 21, 'tax_rate': 0.2}\n",
      "\t 4 : {'rate_taxable': 27, 'tax_rate': 0.3}\n",
      "\t 5 : {'rate_taxable': 36, 'tax_rate': 0.45}\n",
      "\t 6 : {'tax_rate': 0.6}\n",
      "crystal\n",
      "\t 0 : {'rate_taxable': 9, 'tax_rate': 0}\n",
      "\t 1 : {'rate_taxable': 12, 'tax_rate': 0.05}\n",
      "\t 2 : {'rate_taxable': 15, 'tax_rate': 0.1}\n",
      "\t 3 : {'rate_taxable': 21, 'tax_rate': 0.2}\n",
      "\t 4 : {'rate_taxable': 27, 'tax_rate': 0.3}\n",
      "\t 5 : {'rate_taxable': 36, 'tax_rate': 0.45}\n",
      "\t 6 : {'tax_rate': 0.6}\n"
     ]
    }
   ],
   "source": [
    "for i, j in playerUniform[\"marginal_tax_rate_levels\"].items():\n",
    "    print(i)\n",
    "    for k, l, in enumerate(j):\n",
    "        print(f\"\\t {k} : {l}\")"
   ]
  }
 ],
 "metadata": {
  "kernelspec": {
   "display_name": "Python 3",
   "language": "python",
   "name": "python3"
  },
  "language_info": {
   "codemirror_mode": {
    "name": "ipython",
    "version": 3
   },
   "file_extension": ".py",
   "mimetype": "text/x-python",
   "name": "python",
   "nbconvert_exporter": "python",
   "pygments_lexer": "ipython3",
   "version": "3.12.9"
  }
 },
 "nbformat": 4,
 "nbformat_minor": 2
}
